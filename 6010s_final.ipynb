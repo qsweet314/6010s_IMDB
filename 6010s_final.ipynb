{
 "cells": [
  {
   "cell_type": "code",
   "execution_count": 2,
   "metadata": {},
   "outputs": [
    {
     "name": "stdout",
     "output_type": "stream",
     "text": [
      "download: ('C:/Users/32388/Desktop/saclImdb_v1.tar.gz', <http.client.HTTPMessage object at 0x0000022140C6D2C8>)\n"
     ]
    }
   ],
   "source": [
    "import urllib.request \n",
    "import os \n",
    "import tarfile\n",
    "\n",
    "url = \"http://ai.stanford.edu/~amaas/data/sentiment/aclImdb_v1.tar.gz\"\n",
    "\n",
    "filepath = \"C:/Users/32388/Desktop/saclImdb_v1.tar.gz\" \n",
    "\n",
    "if not os.path.isfile(filepath):\n",
    "\n",
    "    result = urllib.request.urlretrieve(url,filepath)\n",
    "\n",
    "    print('download:',result)\n",
    "\n"
   ]
  },
  {
   "cell_type": "code",
   "execution_count": 5,
   "metadata": {},
   "outputs": [],
   "source": [
    "#depressed the data\n",
    "\n",
    "if not os.path.exists(\"C:/Users/32388/Desktop/aclImdb\"):\n",
    "\n",
    "    tfile = tarfile.open(\"C:/Users/32388/Desktop/saclImdb_v1.tar.gz\",'r:gz')\n",
    "\n",
    "    result = tfile.extractall('C:/Users/32388/Desktop/')\n"
   ]
  },
  {
   "cell_type": "code",
   "execution_count": 1,
   "metadata": {},
   "outputs": [
    {
     "name": "stderr",
     "output_type": "stream",
     "text": [
      "Using TensorFlow backend.\n"
     ]
    }
   ],
   "source": [
    "from keras.preprocessing import sequence \n",
    "from keras.preprocessing.text import Tokenizer #For building dictionaries\n",
    "\n",
    "import re\n",
    "def rm_tags(text):\n",
    "    re_tags = re.compile(r'<[^>]+>')\n",
    "    return re_tags.sub(' ',text)\n"
   ]
  },
  {
   "cell_type": "code",
   "execution_count": 2,
   "metadata": {},
   "outputs": [],
   "source": [
    "#read data in the file\n",
    "import os \n",
    "def read_files(filetype):\n",
    "    path = \"C:/Users/32388/Desktop/aclImdb/\"\n",
    "    file_list=[]\n",
    "\n",
    "    positive_path = path + filetype + \"/pos/\"\n",
    "    for f in os.listdir(positive_path):\n",
    "        file_list += [positive_path + f]\n",
    "\n",
    "    negative_path = path + filetype + \"/neg/\"\n",
    "    for f in os.listdir(negative_path):\n",
    "        file_list += [negative_path + f]       \n",
    "\n",
    "    print(\"read\",filetype,\"files:\",len(file_list))\n",
    "    \n",
    "    all_labels = ([1]*12500+[0]*12500)\n",
    "\n",
    "    all_texts = []\n",
    "\n",
    "    for fi in file_list:\n",
    "        with open(fi,encoding = 'utf8') as file_input:\n",
    "            all_texts += [rm_tags(\" \".join(file_input.readlines()))]\n",
    "        \n",
    "    return all_labels,all_texts\n"
   ]
  },
  {
   "cell_type": "code",
   "execution_count": 3,
   "metadata": {},
   "outputs": [
    {
     "name": "stdout",
     "output_type": "stream",
     "text": [
      "read train files: 25000\n"
     ]
    }
   ],
   "source": [
    "y_train,train_text = read_files(\"train\")"
   ]
  },
  {
   "cell_type": "code",
   "execution_count": 4,
   "metadata": {},
   "outputs": [
    {
     "name": "stdout",
     "output_type": "stream",
     "text": [
      "read test files: 25000\n"
     ]
    }
   ],
   "source": [
    "y_test,test_text = read_files(\"test\")"
   ]
  },
  {
   "cell_type": "code",
   "execution_count": 5,
   "metadata": {},
   "outputs": [
    {
     "data": {
      "text/plain": [
       "'Bromwell High is a cartoon comedy. It ran at the same time as some other programs about school life, such as \"Teachers\". My 35 years in the teaching profession lead me to believe that Bromwell High\\'s satire is much closer to reality than is \"Teachers\". The scramble to survive financially, the insightful students who can see right through their pathetic teachers\\' pomp, the pettiness of the whole situation, all remind me of the schools I knew and their students. When I saw the episode in which a student repeatedly tried to burn down the school, I immediately recalled ......... at .......... High. A classic line: INSPECTOR: I\\'m here to sack one of your teachers. STUDENT: Welcome to Bromwell High. I expect that many adults of my age think that Bromwell High is far fetched. What a pity that it isn\\'t!'"
      ]
     },
     "execution_count": 5,
     "metadata": {},
     "output_type": "execute_result"
    }
   ],
   "source": [
    "train_text[0] #The first original text review in training set"
   ]
  },
  {
   "cell_type": "code",
   "execution_count": 6,
   "metadata": {},
   "outputs": [
    {
     "data": {
      "text/plain": [
       "1"
      ]
     },
     "execution_count": 6,
     "metadata": {},
     "output_type": "execute_result"
    }
   ],
   "source": [
    "y_train[0] "
   ]
  },
  {
   "cell_type": "code",
   "execution_count": 7,
   "metadata": {},
   "outputs": [],
   "source": [
    "token = Tokenizer(num_words=2000)#Creating a dictionary of 2000 words\n",
    "token.fit_on_texts(train_text)"
   ]
  },
  {
   "cell_type": "code",
   "execution_count": 8,
   "metadata": {},
   "outputs": [
    {
     "name": "stdout",
     "output_type": "stream",
     "text": [
      "25000\n"
     ]
    }
   ],
   "source": [
    "print(token.document_count)"
   ]
  },
  {
   "cell_type": "code",
   "execution_count": 9,
   "metadata": {},
   "outputs": [],
   "source": [
    "#print(token.word_index)"
   ]
  },
  {
   "cell_type": "code",
   "execution_count": 10,
   "metadata": {},
   "outputs": [],
   "source": [
    "x_train_seq = token.texts_to_sequences(train_text)\n",
    "x_test_seq =  token.texts_to_sequences(test_text)"
   ]
  },
  {
   "cell_type": "code",
   "execution_count": 11,
   "metadata": {},
   "outputs": [
    {
     "data": {
      "text/plain": [
       "[308,\n",
       " 6,\n",
       " 3,\n",
       " 1068,\n",
       " 208,\n",
       " 8,\n",
       " 29,\n",
       " 1,\n",
       " 168,\n",
       " 54,\n",
       " 13,\n",
       " 45,\n",
       " 81,\n",
       " 40,\n",
       " 391,\n",
       " 109,\n",
       " 137,\n",
       " 13,\n",
       " 57,\n",
       " 149,\n",
       " 7,\n",
       " 1,\n",
       " 481,\n",
       " 68,\n",
       " 5,\n",
       " 260,\n",
       " 11,\n",
       " 6,\n",
       " 72,\n",
       " 5,\n",
       " 631,\n",
       " 70,\n",
       " 6,\n",
       " 1,\n",
       " 5,\n",
       " 1,\n",
       " 1533,\n",
       " 33,\n",
       " 66,\n",
       " 63,\n",
       " 204,\n",
       " 139,\n",
       " 64,\n",
       " 1229,\n",
       " 1,\n",
       " 4,\n",
       " 1,\n",
       " 222,\n",
       " 900,\n",
       " 28,\n",
       " 68,\n",
       " 4,\n",
       " 1,\n",
       " 9,\n",
       " 692,\n",
       " 2,\n",
       " 64,\n",
       " 1533,\n",
       " 50,\n",
       " 9,\n",
       " 215,\n",
       " 1,\n",
       " 386,\n",
       " 7,\n",
       " 59,\n",
       " 3,\n",
       " 1466,\n",
       " 799,\n",
       " 5,\n",
       " 176,\n",
       " 1,\n",
       " 391,\n",
       " 9,\n",
       " 1236,\n",
       " 29,\n",
       " 308,\n",
       " 3,\n",
       " 352,\n",
       " 343,\n",
       " 142,\n",
       " 129,\n",
       " 5,\n",
       " 27,\n",
       " 4,\n",
       " 125,\n",
       " 1466,\n",
       " 5,\n",
       " 308,\n",
       " 9,\n",
       " 531,\n",
       " 11,\n",
       " 107,\n",
       " 1467,\n",
       " 4,\n",
       " 57,\n",
       " 554,\n",
       " 100,\n",
       " 11,\n",
       " 308,\n",
       " 6,\n",
       " 226,\n",
       " 47,\n",
       " 3,\n",
       " 11,\n",
       " 8,\n",
       " 214]"
      ]
     },
     "execution_count": 11,
     "metadata": {},
     "output_type": "execute_result"
    }
   ],
   "source": [
    "x_train_seq[0] "
   ]
  },
  {
   "cell_type": "code",
   "execution_count": 12,
   "metadata": {},
   "outputs": [],
   "source": [
    "x_train = sequence.pad_sequences(x_train_seq,maxlen=300) #Uniform list length\n",
    "x_test =sequence.pad_sequences(x_test_seq,maxlen=300)"
   ]
  },
  {
   "cell_type": "code",
   "execution_count": 13,
   "metadata": {},
   "outputs": [],
   "source": [
    "%matplotlib inline\n",
    "from keras.datasets import imdb\n",
    "from keras.models import Sequential \n",
    "from keras.layers import Dense \n",
    "from keras.layers import Flatten \n",
    "from keras.layers.embeddings import Embedding \n",
    "from keras.preprocessing import sequence \n",
    "import keras \n",
    "import numpy as np "
   ]
  },
  {
   "cell_type": "code",
   "execution_count": 14,
   "metadata": {},
   "outputs": [
    {
     "name": "stdout",
     "output_type": "stream",
     "text": [
      "WARNING:tensorflow:From C:\\Users\\32388\\anaconda\\lib\\site-packages\\tensorflow_core\\python\\ops\\resource_variable_ops.py:1630: calling BaseResourceVariable.__init__ (from tensorflow.python.ops.resource_variable_ops) with constraint is deprecated and will be removed in a future version.\n",
      "Instructions for updating:\n",
      "If using Keras pass *_constraint arguments to layers.\n",
      "WARNING:tensorflow:From C:\\Users\\32388\\anaconda\\lib\\site-packages\\tensorflow_core\\python\\ops\\nn_impl.py:183: where (from tensorflow.python.ops.array_ops) is deprecated and will be removed in a future version.\n",
      "Instructions for updating:\n",
      "Use tf.where in 2.0, which has the same broadcast rule as np.where\n",
      "Model: \"sequential_1\"\n",
      "_________________________________________________________________\n",
      "Layer (type)                 Output Shape              Param #   \n",
      "=================================================================\n",
      "embedding_1 (Embedding)      (None, 300, 64)           128000    \n",
      "_________________________________________________________________\n",
      "flatten_1 (Flatten)          (None, 19200)             0         \n",
      "_________________________________________________________________\n",
      "dense_1 (Dense)              (None, 400)               7680400   \n",
      "_________________________________________________________________\n",
      "dense_2 (Dense)              (None, 400)               160400    \n",
      "_________________________________________________________________\n",
      "dense_3 (Dense)              (None, 100)               40100     \n",
      "_________________________________________________________________\n",
      "dense_4 (Dense)              (None, 50)                5050      \n",
      "_________________________________________________________________\n",
      "dense_5 (Dense)              (None, 1)                 51        \n",
      "=================================================================\n",
      "Total params: 8,014,001\n",
      "Trainable params: 8,014,001\n",
      "Non-trainable params: 0\n",
      "_________________________________________________________________\n",
      "None\n"
     ]
    }
   ],
   "source": [
    "#Fully Connected Feedforward Neural Network\n",
    "maxword = 300 #only consider the first 300 words in each review to improve efficiency\n",
    "x_train = sequence.pad_sequences(x_train, maxlen = maxword)\n",
    "x_test = sequence.pad_sequences(x_test, maxlen = maxword)\n",
    "vocab_size = np.max([np.max(x_train[i]) for i in range(x_train.shape[0])]) + 1\n",
    "model = Sequential()\n",
    "model.add(Embedding(vocab_size, 64, input_length = maxword))\n",
    "model.add(Flatten())\n",
    "model.add(Dense(400, activation = 'relu')) #using the ReLU activation function in the hidden layer\n",
    "model.add(Dense(400, activation = 'relu'))\n",
    "model.add(Dense(100, activation = 'relu'))\n",
    "model.add(Dense(50, activation = 'relu'))\n",
    "model.add(Dense(1, activation = 'sigmoid'))#using sigmoid activation function in binary classification\n",
    "\n",
    "model.compile(loss = 'binary_crossentropy', optimizer = 'adam', metrics = ['accuracy']) \n",
    "print(model.summary())\n"
   ]
  },
  {
   "cell_type": "code",
   "execution_count": 15,
   "metadata": {},
   "outputs": [
    {
     "name": "stdout",
     "output_type": "stream",
     "text": [
      "WARNING:tensorflow:From C:\\Users\\32388\\anaconda\\lib\\site-packages\\keras\\backend\\tensorflow_backend.py:422: The name tf.global_variables is deprecated. Please use tf.compat.v1.global_variables instead.\n",
      "\n",
      "Train on 25000 samples, validate on 25000 samples\n",
      "Epoch 1/10\n",
      "25000/25000 [==============================] - 37s 1ms/step - loss: 0.4978 - accuracy: 0.7229 - val_loss: 0.3409 - val_accuracy: 0.8524\n",
      "Epoch 2/10\n",
      "25000/25000 [==============================] - 35s 1ms/step - loss: 0.1876 - accuracy: 0.9282 - val_loss: 0.3655 - val_accuracy: 0.8466\n",
      "Epoch 3/10\n",
      "25000/25000 [==============================] - 35s 1ms/step - loss: 0.0558 - accuracy: 0.9814 - val_loss: 0.5686 - val_accuracy: 0.8380\n",
      "Epoch 4/10\n",
      "25000/25000 [==============================] - 35s 1ms/step - loss: 0.0244 - accuracy: 0.9909 - val_loss: 0.7628 - val_accuracy: 0.8396\n",
      "Epoch 5/10\n",
      "25000/25000 [==============================] - 35s 1ms/step - loss: 0.0145 - accuracy: 0.9950 - val_loss: 0.9332 - val_accuracy: 0.8374\n",
      "Epoch 6/10\n",
      "25000/25000 [==============================] - 35s 1ms/step - loss: 0.0134 - accuracy: 0.9952 - val_loss: 0.9491 - val_accuracy: 0.8387\n",
      "Epoch 7/10\n",
      "25000/25000 [==============================] - 34s 1ms/step - loss: 0.0086 - accuracy: 0.9972 - val_loss: 1.0315 - val_accuracy: 0.8422\n",
      "Epoch 8/10\n",
      "25000/25000 [==============================] - 35s 1ms/step - loss: 0.0123 - accuracy: 0.9958 - val_loss: 0.9178 - val_accuracy: 0.8407\n",
      "Epoch 9/10\n",
      "25000/25000 [==============================] - 36s 1ms/step - loss: 0.0080 - accuracy: 0.9974 - val_loss: 1.1388 - val_accuracy: 0.8392\n",
      "Epoch 10/10\n",
      "25000/25000 [==============================] - 35s 1ms/step - loss: 0.0043 - accuracy: 0.9986 - val_loss: 1.1708 - val_accuracy: 0.8400\n",
      "25000/25000 [==============================] - 10s 413us/step\n"
     ]
    }
   ],
   "source": [
    "history=model.fit(x_train, y_train, validation_data = (x_test, y_test), epochs = 10,batch_size = 200, verbose = 1)\n",
    "score = model.evaluate(x_test, y_test)"
   ]
  },
  {
   "cell_type": "code",
   "execution_count": 16,
   "metadata": {},
   "outputs": [
    {
     "name": "stdout",
     "output_type": "stream",
     "text": [
      "[1.1708154512093962, 0.8399999737739563]\n"
     ]
    }
   ],
   "source": [
    "print(score)"
   ]
  },
  {
   "cell_type": "code",
   "execution_count": 17,
   "metadata": {},
   "outputs": [
    {
     "data": {
      "text/plain": [
       "{'val_loss': [0.3409474524259567,\n",
       "  0.3654839918613434,\n",
       "  0.5685973213911056,\n",
       "  0.7627774889469147,\n",
       "  0.9331977000236511,\n",
       "  0.9490760521888733,\n",
       "  1.031496881723404,\n",
       "  0.917799521446228,\n",
       "  1.1387951130867005,\n",
       "  1.1708154392242431],\n",
       " 'val_accuracy': [0.852400004863739,\n",
       "  0.8465999960899353,\n",
       "  0.8379600048065186,\n",
       "  0.8396000266075134,\n",
       "  0.8374000191688538,\n",
       "  0.8386800289154053,\n",
       "  0.8422399759292603,\n",
       "  0.8406800031661987,\n",
       "  0.8391600251197815,\n",
       "  0.8399999737739563],\n",
       " 'loss': [0.4977822897434235,\n",
       "  0.1875643138885498,\n",
       "  0.05584838017076254,\n",
       "  0.024370113227516414,\n",
       "  0.014549149814993143,\n",
       "  0.013422392763197422,\n",
       "  0.008645751203061082,\n",
       "  0.012254025194561109,\n",
       "  0.008019462254131212,\n",
       "  0.00430254411327769],\n",
       " 'accuracy': [0.72292,\n",
       "  0.92816,\n",
       "  0.98136,\n",
       "  0.99092,\n",
       "  0.99504,\n",
       "  0.99524,\n",
       "  0.99724,\n",
       "  0.99584,\n",
       "  0.99744,\n",
       "  0.99864]}"
      ]
     },
     "execution_count": 17,
     "metadata": {},
     "output_type": "execute_result"
    }
   ],
   "source": [
    "history_dict=history.history\n",
    "history_dict"
   ]
  },
  {
   "cell_type": "code",
   "execution_count": 18,
   "metadata": {},
   "outputs": [
    {
     "data": {
      "image/png": "[encoded data removed]",
      "text/plain": [
       "<Figure size 432x288 with 1 Axes>"
      ]
     },
     "metadata": {
      "needs_background": "light"
     },
     "output_type": "display_data"
    }
   ],
   "source": [
    "import matplotlib.pyplot as plt\n",
    "loss_values=history_dict['loss']\n",
    "val_loss_values=history_dict['val_loss']\n",
    "epochs=range(1,len(loss_values)+1)\n",
    "plt.plot(epochs, loss_values, 'bo', label='Training loss')\n",
    "plt.plot(epochs, val_loss_values, 'b', label='Validation loss')\n",
    "plt.title('Training and validation loss')\n",
    "plt.xlabel('Epochs')\n",
    "plt.ylabel('Loss')\n",
    "plt.legend()\n",
    "plt.show()"
   ]
  },
  {
   "cell_type": "code",
   "execution_count": 19,
   "metadata": {},
   "outputs": [
    {
     "data": {
      "image/png": "[encoded data removed]",
      "text/plain": [
       "<Figure size 432x288 with 1 Axes>"
      ]
     },
     "metadata": {
      "needs_background": "light"
     },
     "output_type": "display_data"
    }
   ],
   "source": [
    "#plot training accuracy and verification accuracy\n",
    "\n",
    "plt.clf()\n",
    "\n",
    "acc = history_dict['accuracy']\n",
    "\n",
    "val_acc = history_dict['val_accuracy']\n",
    "\n",
    "plt.plot(epochs, acc, 'bo', label='Training acc')\n",
    "\n",
    "plt.plot(epochs, val_acc, 'b', label='Validation acc')\n",
    "\n",
    "plt.title('Training and validation accuracy')\n",
    "\n",
    "plt.xlabel('Epochs')\n",
    "\n",
    "plt.ylabel('Accuracy')\n",
    "\n",
    "plt.legend()\n",
    "\n",
    "plt.show()\n"
   ]
  },
  {
   "cell_type": "code",
   "execution_count": 20,
   "metadata": {},
   "outputs": [
    {
     "name": "stdout",
     "output_type": "stream",
     "text": [
      "WARNING:tensorflow:From C:\\Users\\32388\\anaconda\\lib\\site-packages\\keras\\backend\\tensorflow_backend.py:4070: The name tf.nn.max_pool is deprecated. Please use tf.nn.max_pool2d instead.\n",
      "\n",
      "Model: \"sequential_2\"\n",
      "_________________________________________________________________\n",
      "Layer (type)                 Output Shape              Param #   \n",
      "=================================================================\n",
      "embedding_2 (Embedding)      (None, 300, 64)           128000    \n",
      "_________________________________________________________________\n",
      "conv1d_1 (Conv1D)            (None, 300, 64)           16448     \n",
      "_________________________________________________________________\n",
      "max_pooling1d_1 (MaxPooling1 (None, 150, 64)           0         \n",
      "_________________________________________________________________\n",
      "dropout_1 (Dropout)          (None, 150, 64)           0         \n",
      "_________________________________________________________________\n",
      "conv1d_2 (Conv1D)            (None, 150, 128)          32896     \n",
      "_________________________________________________________________\n",
      "max_pooling1d_2 (MaxPooling1 (None, 75, 128)           0         \n",
      "_________________________________________________________________\n",
      "dropout_2 (Dropout)          (None, 75, 128)           0         \n",
      "_________________________________________________________________\n",
      "flatten_2 (Flatten)          (None, 9600)              0         \n",
      "_________________________________________________________________\n",
      "dense_6 (Dense)              (None, 64)                614464    \n",
      "_________________________________________________________________\n",
      "dense_7 (Dense)              (None, 32)                2080      \n",
      "_________________________________________________________________\n",
      "dense_8 (Dense)              (None, 1)                 33        \n",
      "=================================================================\n",
      "Total params: 793,921\n",
      "Trainable params: 793,921\n",
      "Non-trainable params: 0\n",
      "_________________________________________________________________\n",
      "None\n"
     ]
    }
   ],
   "source": [
    "#CNN\n",
    "from keras.models import Sequential \n",
    "from keras.layers.embeddings import Embedding \n",
    "from keras.preprocessing import sequence \n",
    "from keras.layers import Dense, Dropout, Activation, Flatten\n",
    "from keras.layers import Conv1D, MaxPooling1D\n",
    "model = Sequential()\n",
    "model.add(Embedding(vocab_size, 64, input_length = maxword))\n",
    "model.add(Conv1D(filters = 64, kernel_size = 4, padding = 'same', activation = 'relu'))\n",
    "model.add(MaxPooling1D(pool_size = 2))\n",
    "model.add(Dropout(0.2))\n",
    "model.add(Conv1D(filters = 128, kernel_size = 4, padding = 'same',activation = 'relu'))\n",
    "model.add(MaxPooling1D(pool_size = 2))\n",
    "model.add(Dropout(0.2))\n",
    "model.add(Flatten())\n",
    "model.add(Dense(64, activation = 'relu'))\n",
    "model.add(Dense(32, activation = 'relu'))\n",
    "model.add(Dense(1, activation = 'sigmoid'))\n",
    "model.compile(loss = 'binary_crossentropy', optimizer = 'rmsprop', metrics = ['accuracy'])\n",
    "print(model.summary())\n"
   ]
  },
  {
   "cell_type": "code",
   "execution_count": 21,
   "metadata": {},
   "outputs": [
    {
     "name": "stdout",
     "output_type": "stream",
     "text": [
      "Train on 25000 samples, validate on 25000 samples\n",
      "Epoch 1/10\n",
      "25000/25000 [==============================] - 64s 3ms/step - loss: 0.5449 - accuracy: 0.6834 - val_loss: 0.3106 - val_accuracy: 0.8679\n",
      "Epoch 2/10\n",
      "25000/25000 [==============================] - 64s 3ms/step - loss: 0.3194 - accuracy: 0.8638 - val_loss: 0.3030 - val_accuracy: 0.8720\n",
      "Epoch 3/10\n",
      "25000/25000 [==============================] - 64s 3ms/step - loss: 0.2779 - accuracy: 0.8854 - val_loss: 0.3176 - val_accuracy: 0.8622\n",
      "Epoch 4/10\n",
      "25000/25000 [==============================] - 64s 3ms/step - loss: 0.2501 - accuracy: 0.8986 - val_loss: 0.2919 - val_accuracy: 0.8752\n",
      "Epoch 5/10\n",
      "25000/25000 [==============================] - 65s 3ms/step - loss: 0.2276 - accuracy: 0.9085 - val_loss: 0.2662 - val_accuracy: 0.8873\n",
      "Epoch 6/10\n",
      "25000/25000 [==============================] - 63s 3ms/step - loss: 0.2083 - accuracy: 0.9166 - val_loss: 0.2722 - val_accuracy: 0.8887\n",
      "Epoch 7/10\n",
      "25000/25000 [==============================] - 63s 3ms/step - loss: 0.1938 - accuracy: 0.9243 - val_loss: 0.2823 - val_accuracy: 0.8871\n",
      "Epoch 8/10\n",
      "25000/25000 [==============================] - 69s 3ms/step - loss: 0.1791 - accuracy: 0.9309 - val_loss: 0.2903 - val_accuracy: 0.8824\n",
      "Epoch 9/10\n",
      "25000/25000 [==============================] - 69s 3ms/step - loss: 0.1588 - accuracy: 0.9378 - val_loss: 0.3968 - val_accuracy: 0.8394\n",
      "Epoch 10/10\n",
      "25000/25000 [==============================] - 66s 3ms/step - loss: 0.1455 - accuracy: 0.9459 - val_loss: 0.3087 - val_accuracy: 0.8834\n",
      "25000/25000 [==============================] - 13s 508us/step\n",
      "[0.3087111461043358, 0.883400022983551]\n"
     ]
    }
   ],
   "source": [
    "history=model.fit(x_train, y_train, validation_data = (x_test, y_test), epochs = 10, batch_size = 200)\n",
    "scores = model.evaluate(x_test, y_test, verbose = 1)\n",
    "print(scores)\n"
   ]
  },
  {
   "cell_type": "code",
   "execution_count": 22,
   "metadata": {},
   "outputs": [
    {
     "data": {
      "text/plain": [
       "{'val_loss': [0.3106050560474396,\n",
       "  0.303037929058075,\n",
       "  0.3175638226866722,\n",
       "  0.2919280333518982,\n",
       "  0.26620950758457185,\n",
       "  0.2721692677736282,\n",
       "  0.2823220785856247,\n",
       "  0.29030712628364563,\n",
       "  0.3967905807197094,\n",
       "  0.30871114367246627],\n",
       " 'val_accuracy': [0.8678799867630005,\n",
       "  0.8719599843025208,\n",
       "  0.8622000217437744,\n",
       "  0.8751599788665771,\n",
       "  0.8873199820518494,\n",
       "  0.8887199759483337,\n",
       "  0.8870800137519836,\n",
       "  0.8823999762535095,\n",
       "  0.8393599987030029,\n",
       "  0.883400022983551],\n",
       " 'loss': [0.5448609778881073,\n",
       "  0.31936869394779205,\n",
       "  0.277858367562294,\n",
       "  0.2501042640209198,\n",
       "  0.22764986848831176,\n",
       "  0.20833857303857803,\n",
       "  0.1938052472472191,\n",
       "  0.17913617783784866,\n",
       "  0.15878294467926024,\n",
       "  0.14546901056170464],\n",
       " 'accuracy': [0.6834,\n",
       "  0.86376,\n",
       "  0.8854,\n",
       "  0.89856,\n",
       "  0.90852,\n",
       "  0.91664,\n",
       "  0.92432,\n",
       "  0.93092,\n",
       "  0.93776,\n",
       "  0.94588]}"
      ]
     },
     "execution_count": 22,
     "metadata": {},
     "output_type": "execute_result"
    }
   ],
   "source": [
    "history_dict=history.history\n",
    "history_dict"
   ]
  },
  {
   "cell_type": "code",
   "execution_count": 23,
   "metadata": {},
   "outputs": [
    {
     "data": {
      "image/png": "[encoded data removed]",
      "text/plain": [
       "<Figure size 432x288 with 1 Axes>"
      ]
     },
     "metadata": {
      "needs_background": "light"
     },
     "output_type": "display_data"
    }
   ],
   "source": [
    "loss_values=history_dict['loss']\n",
    "val_loss_values=history_dict['val_loss']\n",
    "epochs=range(1,len(loss_values)+1)\n",
    "plt.plot(epochs, loss_values, 'bo', label='Training loss')\n",
    "plt.plot(epochs, val_loss_values, 'b', label='Validation loss')\n",
    "plt.title('Training and validation loss')\n",
    "plt.xlabel('Epochs')\n",
    "plt.ylabel('Loss')\n",
    "plt.legend()\n",
    "plt.show()"
   ]
  },
  {
   "cell_type": "code",
   "execution_count": 24,
   "metadata": {},
   "outputs": [
    {
     "data": {
      "image/png": "[encoded data removed]",
      "text/plain": [
       "<Figure size 432x288 with 1 Axes>"
      ]
     },
     "metadata": {
      "needs_background": "light"
     },
     "output_type": "display_data"
    }
   ],
   "source": [
    "plt.clf()\n",
    "\n",
    "acc = history_dict['accuracy']\n",
    "\n",
    "val_acc = history_dict['val_accuracy']\n",
    "\n",
    "plt.plot(epochs, acc, 'bo', label='Training acc')\n",
    "\n",
    "plt.plot(epochs, val_acc, 'b', label='Validation acc')\n",
    "\n",
    "plt.title('Training and validation accuracy')\n",
    "\n",
    "plt.xlabel('Epochs')\n",
    "\n",
    "plt.ylabel('Accuracy')\n",
    "\n",
    "plt.legend()\n",
    "\n",
    "plt.show()\n"
   ]
  },
  {
   "cell_type": "code",
   "execution_count": 25,
   "metadata": {},
   "outputs": [
    {
     "name": "stdout",
     "output_type": "stream",
     "text": [
      "Model: \"sequential_3\"\n",
      "_________________________________________________________________\n",
      "Layer (type)                 Output Shape              Param #   \n",
      "=================================================================\n",
      "embedding_3 (Embedding)      (None, 300, 64)           128000    \n",
      "_________________________________________________________________\n",
      "lstm_1 (LSTM)                (None, 300, 64)           33024     \n",
      "_________________________________________________________________\n",
      "dropout_3 (Dropout)          (None, 300, 64)           0         \n",
      "_________________________________________________________________\n",
      "lstm_2 (LSTM)                (None, 32)                12416     \n",
      "_________________________________________________________________\n",
      "dropout_4 (Dropout)          (None, 32)                0         \n",
      "_________________________________________________________________\n",
      "dense_9 (Dense)              (None, 1)                 33        \n",
      "=================================================================\n",
      "Total params: 173,473\n",
      "Trainable params: 173,473\n",
      "Non-trainable params: 0\n",
      "_________________________________________________________________\n",
      "None\n"
     ]
    }
   ],
   "source": [
    "#LSTM network\n",
    "from keras.layers import LSTM\n",
    "model = Sequential()\n",
    "model.add(Embedding(vocab_size, 64, input_length = maxword))\n",
    "model.add(LSTM(64, return_sequences=True))\n",
    "model.add(Dropout(0.2))\n",
    "model.add(LSTM(32))\n",
    "model.add(Dropout(0.2))\n",
    "model.add(Dense(1, activation = 'sigmoid'))\n",
    "model.compile(loss = 'binary_crossentropy', optimizer = 'rmsprop', metrics = ['accuracy'])\n",
    "print(model.summary())\n"
   ]
  },
  {
   "cell_type": "code",
   "execution_count": 26,
   "metadata": {},
   "outputs": [
    {
     "name": "stdout",
     "output_type": "stream",
     "text": [
      "Train on 25000 samples, validate on 25000 samples\n",
      "Epoch 1/5\n",
      "25000/25000 [==============================] - 193s 8ms/step - loss: 0.4940 - accuracy: 0.7678 - val_loss: 0.3362 - val_accuracy: 0.8582\n",
      "Epoch 2/5\n",
      "25000/25000 [==============================] - 192s 8ms/step - loss: 0.3509 - accuracy: 0.8554 - val_loss: 0.3058 - val_accuracy: 0.8718\n",
      "Epoch 3/5\n",
      "25000/25000 [==============================] - 193s 8ms/step - loss: 0.3136 - accuracy: 0.8738 - val_loss: 0.3348 - val_accuracy: 0.8634\n",
      "Epoch 4/5\n",
      "25000/25000 [==============================] - 194s 8ms/step - loss: 0.2970 - accuracy: 0.8798 - val_loss: 0.2984 - val_accuracy: 0.8730\n",
      "Epoch 5/5\n",
      "25000/25000 [==============================] - 194s 8ms/step - loss: 0.2860 - accuracy: 0.8846 - val_loss: 0.3029 - val_accuracy: 0.8730\n",
      "25000/25000 [==============================] - 72s 3ms/step\n"
     ]
    }
   ],
   "source": [
    "history=model.fit(x_train, y_train, validation_data = (x_test, y_test), epochs = 5, batch_size = 200)\n",
    "scores = model.evaluate(x_test, y_test)"
   ]
  },
  {
   "cell_type": "code",
   "execution_count": 27,
   "metadata": {},
   "outputs": [
    {
     "data": {
      "text/plain": [
       "{'val_loss': [0.3361531422138214,\n",
       "  0.30575454902648924,\n",
       "  0.3348146368265152,\n",
       "  0.29839727568626406,\n",
       "  0.30288507854938507],\n",
       " 'val_accuracy': [0.8581600189208984,\n",
       "  0.8717600107192993,\n",
       "  0.8633599877357483,\n",
       "  0.8730000257492065,\n",
       "  0.8730000257492065],\n",
       " 'loss': [0.4939816520214081,\n",
       "  0.3508556607961655,\n",
       "  0.3135691908597946,\n",
       "  0.29701463449001314,\n",
       "  0.28604141366481783],\n",
       " 'accuracy': [0.76776, 0.8554, 0.87376, 0.8798, 0.8846]}"
      ]
     },
     "execution_count": 27,
     "metadata": {},
     "output_type": "execute_result"
    }
   ],
   "source": [
    "history_dict=history.history\n",
    "history_dict"
   ]
  },
  {
   "cell_type": "code",
   "execution_count": 28,
   "metadata": {},
   "outputs": [
    {
     "data": {
      "image/png": "[encoded data removed]",
      "text/plain": [
       "<Figure size 432x288 with 1 Axes>"
      ]
     },
     "metadata": {
      "needs_background": "light"
     },
     "output_type": "display_data"
    }
   ],
   "source": [
    "import matplotlib.pyplot as plt\n",
    "loss_values=history_dict['loss']\n",
    "val_loss_values=history_dict['val_loss']\n",
    "epochs=range(1,len(loss_values)+1)\n",
    "plt.plot(epochs, loss_values, 'bo', label='Training loss')\n",
    "plt.plot(epochs, val_loss_values, 'b', label='Validation loss')\n",
    "plt.title('Training and validation loss')\n",
    "plt.xlabel('Epochs')\n",
    "plt.ylabel('Loss')\n",
    "plt.legend()\n",
    "plt.show()"
   ]
  },
  {
   "cell_type": "code",
   "execution_count": 29,
   "metadata": {},
   "outputs": [
    {
     "data": {
      "image/png": "[encoded data removed]",
      "text/plain": [
       "<Figure size 432x288 with 1 Axes>"
      ]
     },
     "metadata": {
      "needs_background": "light"
     },
     "output_type": "display_data"
    }
   ],
   "source": [
    "plt.clf()\n",
    "\n",
    "acc = history_dict['accuracy']\n",
    "\n",
    "val_acc = history_dict['val_accuracy']\n",
    "\n",
    "plt.plot(epochs, acc, 'bo', label='Training acc')\n",
    "\n",
    "plt.plot(epochs, val_acc, 'b', label='Validation acc')\n",
    "\n",
    "plt.title('Training and validation accuracy')\n",
    "\n",
    "plt.xlabel('Epochs')\n",
    "\n",
    "plt.ylabel('Accuracy')\n",
    "\n",
    "plt.legend()\n",
    "\n",
    "plt.show()"
   ]
  },
  {
   "cell_type": "code",
   "execution_count": 30,
   "metadata": {},
   "outputs": [
    {
     "name": "stdout",
     "output_type": "stream",
     "text": [
      "[0.3028850794029236, 0.8730000257492065]\n"
     ]
    }
   ],
   "source": [
    "print(scores)"
   ]
  },
  {
   "cell_type": "code",
   "execution_count": 31,
   "metadata": {},
   "outputs": [],
   "source": [
    "test_comment=[('The big winner of last years Golden Horse Award is undoubtedly sunshine. Won 5 awards for best feature film, best director, best actor, best supporting actor and best editing, and also won the best film of the year in Golden Horse audience vote. This shows that sunshine not only conquers the professional audience, but also is a movie that everyone can understand and love.')]\n",
    "my_comment_seq = token.texts_to_sequences(test_comment)\n",
    "pre = sequence.pad_sequences(my_comment_seq,maxlen=300)\n"
   ]
  },
  {
   "cell_type": "code",
   "execution_count": 32,
   "metadata": {},
   "outputs": [
    {
     "data": {
      "text/plain": [
       "array([[   0,    0,    0,    0,    0,    0,    0,    0,    0,    0,    0,\n",
       "           0,    0,    0,    0,    0,    0,    0,    0,    0,    0,    0,\n",
       "           0,    0,    0,    0,    0,    0,    0,    0,    0,    0,    0,\n",
       "           0,    0,    0,    0,    0,    0,    0,    0,    0,    0,    0,\n",
       "           0,    0,    0,    0,    0,    0,    0,    0,    0,    0,    0,\n",
       "           0,    0,    0,    0,    0,    0,    0,    0,    0,    0,    0,\n",
       "           0,    0,    0,    0,    0,    0,    0,    0,    0,    0,    0,\n",
       "           0,    0,    0,    0,    0,    0,    0,    0,    0,    0,    0,\n",
       "           0,    0,    0,    0,    0,    0,    0,    0,    0,    0,    0,\n",
       "           0,    0,    0,    0,    0,    0,    0,    0,    0,    0,    0,\n",
       "           0,    0,    0,    0,    0,    0,    0,    0,    0,    0,    0,\n",
       "           0,    0,    0,    0,    0,    0,    0,    0,    0,    0,    0,\n",
       "           0,    0,    0,    0,    0,    0,    0,    0,    0,    0,    0,\n",
       "           0,    0,    0,    0,    0,    0,    0,    0,    0,    0,    0,\n",
       "           0,    0,    0,    0,    0,    0,    0,    0,    0,    0,    0,\n",
       "           0,    0,    0,    0,    0,    0,    0,    0,    0,    0,    0,\n",
       "           0,    0,    0,    0,    0,    0,    0,    0,    0,    0,    0,\n",
       "           0,    0,    0,    0,    0,    0,    0,    0,    0,    0,    0,\n",
       "           0,    0,    0,    0,    0,    0,    0,    0,    0,    0,    0,\n",
       "           0,    0,    0,    0,    0,    0,    0,    0,    0,    0,    0,\n",
       "           0,    0,    0,    0,    0,    0,    0,    0,    0,    0,    0,\n",
       "           0,    0,    0,    0,    0,    0,    0,    0,    0,    0,    0,\n",
       "           0,    0,    0,    1,  190,    4,  232,  149, 1814, 1339,    6,\n",
       "        1195,  453,   14,  114,  787,   18,  114,  163,  114,  280,  114,\n",
       "         693,  280,    2,  114,  798,    2,   78, 1195,    1,  114,   18,\n",
       "           4,    1,  287,    7, 1814,  307,   10,  283,   11,   20,   60,\n",
       "           1, 1618,  307,   17,   78,    6,    3,   16,   11,  312,   66,\n",
       "         387,    2,  115]])"
      ]
     },
     "execution_count": 32,
     "metadata": {},
     "output_type": "execute_result"
    }
   ],
   "source": [
    "pre"
   ]
  },
  {
   "cell_type": "code",
   "execution_count": 33,
   "metadata": {},
   "outputs": [
    {
     "name": "stdout",
     "output_type": "stream",
     "text": [
      "[[0.9858212]]\n"
     ]
    }
   ],
   "source": [
    "print(model.predict(pre))"
   ]
  }
 ],
 "metadata": {
  "kernelspec": {
   "display_name": "Python 3",
   "language": "python",
   "name": "python3"
  },
  "language_info": {
   "codemirror_mode": {
    "name": "ipython",
    "version": 3
   },
   "file_extension": ".py",
   "mimetype": "text/x-python",
   "name": "python",
   "nbconvert_exporter": "python",
   "pygments_lexer": "ipython3",
   "version": "3.7.6"
  }
 },
 "nbformat": 4,
 "nbformat_minor": 4
}
